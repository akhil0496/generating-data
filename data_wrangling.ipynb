{
 "cells": [
  {
   "cell_type": "code",
   "execution_count": 1,
   "metadata": {},
   "outputs": [],
   "source": [
    "import os\n",
    "import pandas as pd\n",
    "import numpy as np"
   ]
  },
  {
   "cell_type": "code",
   "execution_count": 2,
   "metadata": {},
   "outputs": [],
   "source": [
    "os.chdir(r\"C:\\Users\\ASUS\\Desktop\\DataSet\\generating-data\")"
   ]
  },
  {
   "cell_type": "code",
   "execution_count": 3,
   "metadata": {},
   "outputs": [],
   "source": [
    "path = r\"C:\\Users\\ASUS\\Desktop\\DataSet\\generating-data\"\n",
    "files = [file for file in os.listdir(path) if not file.startswith('.')] # Ignore hidden files\n",
    "\n",
    "all_months_data = pd.DataFrame()\n",
    "\n",
    "for file in files:\n",
    "    current_data = pd.read_csv(path+\"/\"+file)\n",
    "    all_months_data = pd.concat([all_months_data, current_data])\n",
    "    \n",
    "all_months_data.to_csv(\"all_data.csv\", index=False)"
   ]
  },
  {
   "cell_type": "code",
   "execution_count": 4,
   "metadata": {},
   "outputs": [
    {
     "data": {
      "text/html": [
       "<div>\n",
       "<style scoped>\n",
       "    .dataframe tbody tr th:only-of-type {\n",
       "        vertical-align: middle;\n",
       "    }\n",
       "\n",
       "    .dataframe tbody tr th {\n",
       "        vertical-align: top;\n",
       "    }\n",
       "\n",
       "    .dataframe thead th {\n",
       "        text-align: right;\n",
       "    }\n",
       "</style>\n",
       "<table border=\"1\" class=\"dataframe\">\n",
       "  <thead>\n",
       "    <tr style=\"text-align: right;\">\n",
       "      <th></th>\n",
       "      <th>Order ID</th>\n",
       "      <th>Product</th>\n",
       "      <th>Quantity Ordered</th>\n",
       "      <th>Price Each</th>\n",
       "      <th>Order Date</th>\n",
       "      <th>Purchase Address</th>\n",
       "    </tr>\n",
       "  </thead>\n",
       "  <tbody>\n",
       "    <tr>\n",
       "      <th>0</th>\n",
       "      <td>178459</td>\n",
       "      <td>usb-cables</td>\n",
       "      <td>1</td>\n",
       "      <td>50.75</td>\n",
       "      <td>01/04/20 07:13</td>\n",
       "      <td>973 Main St, Hyderabad, TN 94016</td>\n",
       "    </tr>\n",
       "    <tr>\n",
       "      <th>1</th>\n",
       "      <td>178460</td>\n",
       "      <td>Apple Airpods Headphones</td>\n",
       "      <td>1</td>\n",
       "      <td>150.0</td>\n",
       "      <td>30/04/20 13:43</td>\n",
       "      <td>808 10th St, Hyderabad, TN 94016</td>\n",
       "    </tr>\n",
       "    <tr>\n",
       "      <th>2</th>\n",
       "      <td>178461</td>\n",
       "      <td>usb-cables</td>\n",
       "      <td>1</td>\n",
       "      <td>50.75</td>\n",
       "      <td>14/04/20 12:37</td>\n",
       "      <td>640 charminar St, vizag, AP 30301</td>\n",
       "    </tr>\n",
       "    <tr>\n",
       "      <th>3</th>\n",
       "      <td>178462</td>\n",
       "      <td>lg electonics</td>\n",
       "      <td>1</td>\n",
       "      <td>555.25</td>\n",
       "      <td>03/04/20 12:07</td>\n",
       "      <td>624 7th St, pune, M 73301</td>\n",
       "    </tr>\n",
       "    <tr>\n",
       "      <th>4</th>\n",
       "      <td>178463</td>\n",
       "      <td>usb-cables</td>\n",
       "      <td>1</td>\n",
       "      <td>50.75</td>\n",
       "      <td>09/04/20 17:16</td>\n",
       "      <td>129 7th St, Hyderabad, TN 94016</td>\n",
       "    </tr>\n",
       "  </tbody>\n",
       "</table>\n",
       "</div>"
      ],
      "text/plain": [
       "  Order ID                   Product Quantity Ordered Price Each  \\\n",
       "0   178459                usb-cables                1      50.75   \n",
       "1   178460  Apple Airpods Headphones                1      150.0   \n",
       "2   178461                usb-cables                1      50.75   \n",
       "3   178462             lg electonics                1     555.25   \n",
       "4   178463                usb-cables                1      50.75   \n",
       "\n",
       "       Order Date                   Purchase Address  \n",
       "0  01/04/20 07:13   973 Main St, Hyderabad, TN 94016  \n",
       "1  30/04/20 13:43   808 10th St, Hyderabad, TN 94016  \n",
       "2  14/04/20 12:37  640 charminar St, vizag, AP 30301  \n",
       "3  03/04/20 12:07          624 7th St, pune, M 73301  \n",
       "4  09/04/20 17:16    129 7th St, Hyderabad, TN 94016  "
      ]
     },
     "execution_count": 4,
     "metadata": {},
     "output_type": "execute_result"
    }
   ],
   "source": [
    "#Read in updated dataframe\n",
    "\n",
    "all_data = pd.read_csv(\"all_data.csv\")\n",
    "all_data.head()"
   ]
  },
  {
   "cell_type": "code",
   "execution_count": 5,
   "metadata": {},
   "outputs": [
    {
     "data": {
      "text/plain": [
       "(188369, 6)"
      ]
     },
     "execution_count": 5,
     "metadata": {},
     "output_type": "execute_result"
    }
   ],
   "source": [
    "all_data.shape"
   ]
  },
  {
   "cell_type": "code",
   "execution_count": 6,
   "metadata": {},
   "outputs": [],
   "source": [
    "df = all_data.copy()"
   ]
  },
  {
   "cell_type": "markdown",
   "metadata": {},
   "source": [
    "# Clean up the data!\n",
    "The first step in this is figuring out what we need to clean. I have found in my experience, that we find things we need to clean as we perform operations and get errors. Based on the error, we decide how we should go about cleaning the data"
   ]
  },
  {
   "cell_type": "code",
   "execution_count": 7,
   "metadata": {},
   "outputs": [
    {
     "data": {
      "text/plain": [
       "Order ID            1634\n",
       "Product             1634\n",
       "Quantity Ordered    1634\n",
       "Price Each          1634\n",
       "Order Date          1634\n",
       "Purchase Address    1634\n",
       "dtype: int64"
      ]
     },
     "execution_count": 7,
     "metadata": {},
     "output_type": "execute_result"
    }
   ],
   "source": [
    "# Check missing values\n",
    "df.isnull().sum()"
   ]
  },
  {
   "cell_type": "code",
   "execution_count": 8,
   "metadata": {},
   "outputs": [
    {
     "data": {
      "text/html": [
       "<div>\n",
       "<style scoped>\n",
       "    .dataframe tbody tr th:only-of-type {\n",
       "        vertical-align: middle;\n",
       "    }\n",
       "\n",
       "    .dataframe tbody tr th {\n",
       "        vertical-align: top;\n",
       "    }\n",
       "\n",
       "    .dataframe thead th {\n",
       "        text-align: right;\n",
       "    }\n",
       "</style>\n",
       "<table border=\"1\" class=\"dataframe\">\n",
       "  <thead>\n",
       "    <tr style=\"text-align: right;\">\n",
       "      <th></th>\n",
       "      <th>Order ID</th>\n",
       "      <th>Product</th>\n",
       "      <th>Quantity Ordered</th>\n",
       "      <th>Price Each</th>\n",
       "      <th>Order Date</th>\n",
       "      <th>Purchase Address</th>\n",
       "    </tr>\n",
       "  </thead>\n",
       "  <tbody>\n",
       "    <tr>\n",
       "      <th>63</th>\n",
       "      <td>NaN</td>\n",
       "      <td>NaN</td>\n",
       "      <td>NaN</td>\n",
       "      <td>NaN</td>\n",
       "      <td>NaN</td>\n",
       "      <td>NaN</td>\n",
       "    </tr>\n",
       "    <tr>\n",
       "      <th>79</th>\n",
       "      <td>NaN</td>\n",
       "      <td>NaN</td>\n",
       "      <td>NaN</td>\n",
       "      <td>NaN</td>\n",
       "      <td>NaN</td>\n",
       "      <td>NaN</td>\n",
       "    </tr>\n",
       "    <tr>\n",
       "      <th>209</th>\n",
       "      <td>NaN</td>\n",
       "      <td>NaN</td>\n",
       "      <td>NaN</td>\n",
       "      <td>NaN</td>\n",
       "      <td>NaN</td>\n",
       "      <td>NaN</td>\n",
       "    </tr>\n",
       "    <tr>\n",
       "      <th>228</th>\n",
       "      <td>NaN</td>\n",
       "      <td>NaN</td>\n",
       "      <td>NaN</td>\n",
       "      <td>NaN</td>\n",
       "      <td>NaN</td>\n",
       "      <td>NaN</td>\n",
       "    </tr>\n",
       "    <tr>\n",
       "      <th>254</th>\n",
       "      <td>NaN</td>\n",
       "      <td>NaN</td>\n",
       "      <td>NaN</td>\n",
       "      <td>NaN</td>\n",
       "      <td>NaN</td>\n",
       "      <td>NaN</td>\n",
       "    </tr>\n",
       "  </tbody>\n",
       "</table>\n",
       "</div>"
      ],
      "text/plain": [
       "    Order ID Product Quantity Ordered Price Each Order Date Purchase Address\n",
       "63       NaN     NaN              NaN        NaN        NaN              NaN\n",
       "79       NaN     NaN              NaN        NaN        NaN              NaN\n",
       "209      NaN     NaN              NaN        NaN        NaN              NaN\n",
       "228      NaN     NaN              NaN        NaN        NaN              NaN\n",
       "254      NaN     NaN              NaN        NaN        NaN              NaN"
      ]
     },
     "metadata": {},
     "output_type": "display_data"
    },
    {
     "data": {
      "text/html": [
       "<div>\n",
       "<style scoped>\n",
       "    .dataframe tbody tr th:only-of-type {\n",
       "        vertical-align: middle;\n",
       "    }\n",
       "\n",
       "    .dataframe tbody tr th {\n",
       "        vertical-align: top;\n",
       "    }\n",
       "\n",
       "    .dataframe thead th {\n",
       "        text-align: right;\n",
       "    }\n",
       "</style>\n",
       "<table border=\"1\" class=\"dataframe\">\n",
       "  <thead>\n",
       "    <tr style=\"text-align: right;\">\n",
       "      <th></th>\n",
       "      <th>Order ID</th>\n",
       "      <th>Product</th>\n",
       "      <th>Quantity Ordered</th>\n",
       "      <th>Price Each</th>\n",
       "      <th>Order Date</th>\n",
       "      <th>Purchase Address</th>\n",
       "    </tr>\n",
       "  </thead>\n",
       "  <tbody>\n",
       "    <tr>\n",
       "      <th>0</th>\n",
       "      <td>178459</td>\n",
       "      <td>usb-cables</td>\n",
       "      <td>1</td>\n",
       "      <td>50.75</td>\n",
       "      <td>01/04/20 07:13</td>\n",
       "      <td>973 Main St, Hyderabad, TN 94016</td>\n",
       "    </tr>\n",
       "    <tr>\n",
       "      <th>1</th>\n",
       "      <td>178460</td>\n",
       "      <td>Apple Airpods Headphones</td>\n",
       "      <td>1</td>\n",
       "      <td>150.0</td>\n",
       "      <td>30/04/20 13:43</td>\n",
       "      <td>808 10th St, Hyderabad, TN 94016</td>\n",
       "    </tr>\n",
       "    <tr>\n",
       "      <th>2</th>\n",
       "      <td>178461</td>\n",
       "      <td>usb-cables</td>\n",
       "      <td>1</td>\n",
       "      <td>50.75</td>\n",
       "      <td>14/04/20 12:37</td>\n",
       "      <td>640 charminar St, vizag, AP 30301</td>\n",
       "    </tr>\n",
       "    <tr>\n",
       "      <th>3</th>\n",
       "      <td>178462</td>\n",
       "      <td>lg electonics</td>\n",
       "      <td>1</td>\n",
       "      <td>555.25</td>\n",
       "      <td>03/04/20 12:07</td>\n",
       "      <td>624 7th St, pune, M 73301</td>\n",
       "    </tr>\n",
       "    <tr>\n",
       "      <th>4</th>\n",
       "      <td>178463</td>\n",
       "      <td>usb-cables</td>\n",
       "      <td>1</td>\n",
       "      <td>50.75</td>\n",
       "      <td>09/04/20 17:16</td>\n",
       "      <td>129 7th St, Hyderabad, TN 94016</td>\n",
       "    </tr>\n",
       "  </tbody>\n",
       "</table>\n",
       "</div>"
      ],
      "text/plain": [
       "  Order ID                   Product Quantity Ordered Price Each  \\\n",
       "0   178459                usb-cables                1      50.75   \n",
       "1   178460  Apple Airpods Headphones                1      150.0   \n",
       "2   178461                usb-cables                1      50.75   \n",
       "3   178462             lg electonics                1     555.25   \n",
       "4   178463                usb-cables                1      50.75   \n",
       "\n",
       "       Order Date                   Purchase Address  \n",
       "0  01/04/20 07:13   973 Main St, Hyderabad, TN 94016  \n",
       "1  30/04/20 13:43   808 10th St, Hyderabad, TN 94016  \n",
       "2  14/04/20 12:37  640 charminar St, vizag, AP 30301  \n",
       "3  03/04/20 12:07          624 7th St, pune, M 73301  \n",
       "4  09/04/20 17:16    129 7th St, Hyderabad, TN 94016  "
      ]
     },
     "execution_count": 8,
     "metadata": {},
     "output_type": "execute_result"
    }
   ],
   "source": [
    "# Find NAN\n",
    "nan_df = df[df.isna().any(axis=1)]\n",
    "display(nan_df.head())\n",
    "\n",
    "df = df.dropna(how='all')\n",
    "df.head()"
   ]
  },
  {
   "cell_type": "code",
   "execution_count": 9,
   "metadata": {},
   "outputs": [
    {
     "data": {
      "text/html": [
       "<div>\n",
       "<style scoped>\n",
       "    .dataframe tbody tr th:only-of-type {\n",
       "        vertical-align: middle;\n",
       "    }\n",
       "\n",
       "    .dataframe tbody tr th {\n",
       "        vertical-align: top;\n",
       "    }\n",
       "\n",
       "    .dataframe thead th {\n",
       "        text-align: right;\n",
       "    }\n",
       "</style>\n",
       "<table border=\"1\" class=\"dataframe\">\n",
       "  <thead>\n",
       "    <tr style=\"text-align: right;\">\n",
       "      <th></th>\n",
       "      <th>Order ID</th>\n",
       "      <th>Product</th>\n",
       "      <th>Quantity Ordered</th>\n",
       "      <th>Price Each</th>\n",
       "      <th>Order Date</th>\n",
       "      <th>Purchase Address</th>\n",
       "    </tr>\n",
       "    <tr>\n",
       "      <th>sno</th>\n",
       "      <th></th>\n",
       "      <th></th>\n",
       "      <th></th>\n",
       "      <th></th>\n",
       "      <th></th>\n",
       "      <th></th>\n",
       "    </tr>\n",
       "  </thead>\n",
       "  <tbody>\n",
       "    <tr>\n",
       "      <th>1</th>\n",
       "      <td>178459</td>\n",
       "      <td>usb-cables</td>\n",
       "      <td>1</td>\n",
       "      <td>50.75</td>\n",
       "      <td>01/04/20 07:13</td>\n",
       "      <td>973 Main St, Hyderabad, TN 94016</td>\n",
       "    </tr>\n",
       "    <tr>\n",
       "      <th>2</th>\n",
       "      <td>178460</td>\n",
       "      <td>Apple Airpods Headphones</td>\n",
       "      <td>1</td>\n",
       "      <td>150.0</td>\n",
       "      <td>30/04/20 13:43</td>\n",
       "      <td>808 10th St, Hyderabad, TN 94016</td>\n",
       "    </tr>\n",
       "    <tr>\n",
       "      <th>3</th>\n",
       "      <td>178461</td>\n",
       "      <td>usb-cables</td>\n",
       "      <td>1</td>\n",
       "      <td>50.75</td>\n",
       "      <td>14/04/20 12:37</td>\n",
       "      <td>640 charminar St, vizag, AP 30301</td>\n",
       "    </tr>\n",
       "    <tr>\n",
       "      <th>4</th>\n",
       "      <td>178462</td>\n",
       "      <td>lg electonics</td>\n",
       "      <td>1</td>\n",
       "      <td>555.25</td>\n",
       "      <td>03/04/20 12:07</td>\n",
       "      <td>624 7th St, pune, M 73301</td>\n",
       "    </tr>\n",
       "    <tr>\n",
       "      <th>5</th>\n",
       "      <td>178463</td>\n",
       "      <td>usb-cables</td>\n",
       "      <td>1</td>\n",
       "      <td>50.75</td>\n",
       "      <td>09/04/20 17:16</td>\n",
       "      <td>129 7th St, Hyderabad, TN 94016</td>\n",
       "    </tr>\n",
       "  </tbody>\n",
       "</table>\n",
       "</div>"
      ],
      "text/plain": [
       "    Order ID                   Product Quantity Ordered Price Each  \\\n",
       "sno                                                                  \n",
       "1     178459                usb-cables                1      50.75   \n",
       "2     178460  Apple Airpods Headphones                1      150.0   \n",
       "3     178461                usb-cables                1      50.75   \n",
       "4     178462             lg electonics                1     555.25   \n",
       "5     178463                usb-cables                1      50.75   \n",
       "\n",
       "         Order Date                   Purchase Address  \n",
       "sno                                                     \n",
       "1    01/04/20 07:13   973 Main St, Hyderabad, TN 94016  \n",
       "2    30/04/20 13:43   808 10th St, Hyderabad, TN 94016  \n",
       "3    14/04/20 12:37  640 charminar St, vizag, AP 30301  \n",
       "4    03/04/20 12:07          624 7th St, pune, M 73301  \n",
       "5    09/04/20 17:16    129 7th St, Hyderabad, TN 94016  "
      ]
     },
     "execution_count": 9,
     "metadata": {},
     "output_type": "execute_result"
    }
   ],
   "source": [
    "df['sno'] = range(1, len(df) + 1)\n",
    "df = df.set_index('sno')\n",
    "df.head()"
   ]
  },
  {
   "cell_type": "code",
   "execution_count": 10,
   "metadata": {},
   "outputs": [
    {
     "data": {
      "text/plain": [
       "(186735, 6)"
      ]
     },
     "execution_count": 10,
     "metadata": {},
     "output_type": "execute_result"
    }
   ],
   "source": [
    "df.shape"
   ]
  },
  {
   "cell_type": "code",
   "execution_count": 11,
   "metadata": {},
   "outputs": [
    {
     "data": {
      "text/plain": [
       "Order Date        342\n",
       "08/12/20 11:18      7\n",
       "02/10/20 20:51      6\n",
       "05/09/20 21:14      6\n",
       "29/06/20 20:19      6\n",
       "                 ... \n",
       "25/01/20 11:15      1\n",
       "02/08/20 03:55      1\n",
       "20/06/20 20:42      1\n",
       "03/06/20 13:01      1\n",
       "09/11/20 15:39      1\n",
       "Name: Order Date, Length: 144885, dtype: int64"
      ]
     },
     "execution_count": 11,
     "metadata": {},
     "output_type": "execute_result"
    }
   ],
   "source": [
    "df['Order Date'].value_counts()"
   ]
  },
  {
   "cell_type": "code",
   "execution_count": 12,
   "metadata": {},
   "outputs": [
    {
     "data": {
      "text/plain": [
       "usb-cables                  47192\n",
       "Wired Headphones            42101\n",
       "washing machines            14850\n",
       "lg electonics               12276\n",
       "macbook                     10172\n",
       "iphone                       9316\n",
       "samsung                      8572\n",
       "Lightning Charging Cable     6874\n",
       "nokia                        6596\n",
       "asus                         5571\n",
       "Desktops                     4160\n",
       "sony tv                      4099\n",
       "wireless headphones          3332\n",
       "Apple Airpods Headphones     2996\n",
       "sony laptop                  2821\n",
       "micromax                     2742\n",
       "sony                         2723\n",
       "Product                       342\n",
       "Name: Product, dtype: int64"
      ]
     },
     "execution_count": 12,
     "metadata": {},
     "output_type": "execute_result"
    }
   ],
   "source": [
    "df['Product'].value_counts()"
   ]
  },
  {
   "cell_type": "code",
   "execution_count": 13,
   "metadata": {},
   "outputs": [
    {
     "data": {
      "text/plain": [
       "1                   184304\n",
       "2                     1998\n",
       "Quantity Ordered       342\n",
       "3                       78\n",
       "4                       12\n",
       "5                        1\n",
       "Name: Quantity Ordered, dtype: int64"
      ]
     },
     "execution_count": 13,
     "metadata": {},
     "output_type": "execute_result"
    }
   ],
   "source": [
    "df['Quantity Ordered'].value_counts()"
   ]
  },
  {
   "cell_type": "code",
   "execution_count": 14,
   "metadata": {},
   "outputs": [
    {
     "data": {
      "text/plain": [
       "50.75         47192\n",
       "500.75        42101\n",
       "600.0         14898\n",
       "555.25        12276\n",
       "1200          10094\n",
       "700            9243\n",
       "800            8515\n",
       "14.95          6874\n",
       "600            6548\n",
       "125.5          5571\n",
       "900            4135\n",
       "500            4067\n",
       "8.99           3332\n",
       "150            2970\n",
       "250            2804\n",
       "400            2726\n",
       "200            2707\n",
       "Price Each      342\n",
       "1200.0           78\n",
       "700.0            73\n",
       "800.0            57\n",
       "500.0            32\n",
       "150.0            26\n",
       "900.0            25\n",
       "250.0            17\n",
       "200.0            16\n",
       "400.0            16\n",
       "Name: Price Each, dtype: int64"
      ]
     },
     "execution_count": 14,
     "metadata": {},
     "output_type": "execute_result"
    }
   ],
   "source": [
    "df['Price Each'].value_counts()"
   ]
  },
  {
   "cell_type": "code",
   "execution_count": 15,
   "metadata": {},
   "outputs": [
    {
     "data": {
      "text/plain": [
       "Purchase Address                        342\n",
       "281 9th St, Hyderabad, TN 94016           9\n",
       "25 charminar St, Hyderabad, TN 94016      9\n",
       "417 6th St, Hyderabad, TN 94016           9\n",
       "116 Sunset St, Hyderabad, TN 94016        9\n",
       "                                       ... \n",
       "982 9th St, Hyderabad, TN 94016           1\n",
       "663 Taj mahal St, Banglore, KA 10001      1\n",
       "78 North St, Delhi, UT 02215              1\n",
       "14 6th St, Banglore, KA 10001             1\n",
       "280 temple St, vizag, AP 30301            1\n",
       "Name: Purchase Address, Length: 114164, dtype: int64"
      ]
     },
     "execution_count": 15,
     "metadata": {},
     "output_type": "execute_result"
    }
   ],
   "source": [
    "df['Purchase Address'].value_counts()"
   ]
  },
  {
   "cell_type": "markdown",
   "metadata": {},
   "source": [
    "#### Get rid of text in order date column"
   ]
  },
  {
   "cell_type": "code",
   "execution_count": 16,
   "metadata": {},
   "outputs": [],
   "source": [
    "df = df[df['Order Date'].str[0:2]!='Or']"
   ]
  },
  {
   "cell_type": "code",
   "execution_count": 17,
   "metadata": {},
   "outputs": [
    {
     "data": {
      "text/plain": [
       "(186393, 6)"
      ]
     },
     "execution_count": 17,
     "metadata": {},
     "output_type": "execute_result"
    }
   ],
   "source": [
    "df.shape"
   ]
  },
  {
   "cell_type": "markdown",
   "metadata": {},
   "source": [
    "#### Make columns correct data-type"
   ]
  },
  {
   "cell_type": "code",
   "execution_count": 18,
   "metadata": {},
   "outputs": [],
   "source": [
    "df['Quantity Ordered'] = pd.to_numeric(df['Quantity Ordered'])\n",
    "df['Price Each'] = pd.to_numeric(df['Price Each'])"
   ]
  },
  {
   "cell_type": "markdown",
   "metadata": {},
   "source": [
    "#### Add month column"
   ]
  },
  {
   "cell_type": "code",
   "execution_count": 19,
   "metadata": {},
   "outputs": [
    {
     "data": {
      "text/html": [
       "<div>\n",
       "<style scoped>\n",
       "    .dataframe tbody tr th:only-of-type {\n",
       "        vertical-align: middle;\n",
       "    }\n",
       "\n",
       "    .dataframe tbody tr th {\n",
       "        vertical-align: top;\n",
       "    }\n",
       "\n",
       "    .dataframe thead th {\n",
       "        text-align: right;\n",
       "    }\n",
       "</style>\n",
       "<table border=\"1\" class=\"dataframe\">\n",
       "  <thead>\n",
       "    <tr style=\"text-align: right;\">\n",
       "      <th></th>\n",
       "      <th>Order ID</th>\n",
       "      <th>Product</th>\n",
       "      <th>Quantity Ordered</th>\n",
       "      <th>Price Each</th>\n",
       "      <th>Order Date</th>\n",
       "      <th>Purchase Address</th>\n",
       "      <th>Month 2</th>\n",
       "    </tr>\n",
       "    <tr>\n",
       "      <th>sno</th>\n",
       "      <th></th>\n",
       "      <th></th>\n",
       "      <th></th>\n",
       "      <th></th>\n",
       "      <th></th>\n",
       "      <th></th>\n",
       "      <th></th>\n",
       "    </tr>\n",
       "  </thead>\n",
       "  <tbody>\n",
       "    <tr>\n",
       "      <th>1</th>\n",
       "      <td>178459</td>\n",
       "      <td>usb-cables</td>\n",
       "      <td>1</td>\n",
       "      <td>50.75</td>\n",
       "      <td>01/04/20 07:13</td>\n",
       "      <td>973 Main St, Hyderabad, TN 94016</td>\n",
       "      <td>1</td>\n",
       "    </tr>\n",
       "    <tr>\n",
       "      <th>2</th>\n",
       "      <td>178460</td>\n",
       "      <td>Apple Airpods Headphones</td>\n",
       "      <td>1</td>\n",
       "      <td>150.00</td>\n",
       "      <td>30/04/20 13:43</td>\n",
       "      <td>808 10th St, Hyderabad, TN 94016</td>\n",
       "      <td>4</td>\n",
       "    </tr>\n",
       "    <tr>\n",
       "      <th>3</th>\n",
       "      <td>178461</td>\n",
       "      <td>usb-cables</td>\n",
       "      <td>1</td>\n",
       "      <td>50.75</td>\n",
       "      <td>14/04/20 12:37</td>\n",
       "      <td>640 charminar St, vizag, AP 30301</td>\n",
       "      <td>4</td>\n",
       "    </tr>\n",
       "    <tr>\n",
       "      <th>4</th>\n",
       "      <td>178462</td>\n",
       "      <td>lg electonics</td>\n",
       "      <td>1</td>\n",
       "      <td>555.25</td>\n",
       "      <td>03/04/20 12:07</td>\n",
       "      <td>624 7th St, pune, M 73301</td>\n",
       "      <td>3</td>\n",
       "    </tr>\n",
       "    <tr>\n",
       "      <th>5</th>\n",
       "      <td>178463</td>\n",
       "      <td>usb-cables</td>\n",
       "      <td>1</td>\n",
       "      <td>50.75</td>\n",
       "      <td>09/04/20 17:16</td>\n",
       "      <td>129 7th St, Hyderabad, TN 94016</td>\n",
       "      <td>9</td>\n",
       "    </tr>\n",
       "  </tbody>\n",
       "</table>\n",
       "</div>"
      ],
      "text/plain": [
       "    Order ID                   Product  Quantity Ordered  Price Each  \\\n",
       "sno                                                                    \n",
       "1     178459                usb-cables                 1       50.75   \n",
       "2     178460  Apple Airpods Headphones                 1      150.00   \n",
       "3     178461                usb-cables                 1       50.75   \n",
       "4     178462             lg electonics                 1      555.25   \n",
       "5     178463                usb-cables                 1       50.75   \n",
       "\n",
       "         Order Date                   Purchase Address  Month 2  \n",
       "sno                                                              \n",
       "1    01/04/20 07:13   973 Main St, Hyderabad, TN 94016        1  \n",
       "2    30/04/20 13:43   808 10th St, Hyderabad, TN 94016        4  \n",
       "3    14/04/20 12:37  640 charminar St, vizag, AP 30301        4  \n",
       "4    03/04/20 12:07          624 7th St, pune, M 73301        3  \n",
       "5    09/04/20 17:16    129 7th St, Hyderabad, TN 94016        9  "
      ]
     },
     "execution_count": 19,
     "metadata": {},
     "output_type": "execute_result"
    }
   ],
   "source": [
    "df['Month 2'] = pd.to_datetime(df['Order Date']).dt.month\n",
    "df.head()"
   ]
  },
  {
   "cell_type": "code",
   "execution_count": 20,
   "metadata": {},
   "outputs": [
    {
     "data": {
      "text/html": [
       "<div>\n",
       "<style scoped>\n",
       "    .dataframe tbody tr th:only-of-type {\n",
       "        vertical-align: middle;\n",
       "    }\n",
       "\n",
       "    .dataframe tbody tr th {\n",
       "        vertical-align: top;\n",
       "    }\n",
       "\n",
       "    .dataframe thead th {\n",
       "        text-align: right;\n",
       "    }\n",
       "</style>\n",
       "<table border=\"1\" class=\"dataframe\">\n",
       "  <thead>\n",
       "    <tr style=\"text-align: right;\">\n",
       "      <th></th>\n",
       "      <th>Order ID</th>\n",
       "      <th>Product</th>\n",
       "      <th>Quantity Ordered</th>\n",
       "      <th>Price Each</th>\n",
       "      <th>Order Date</th>\n",
       "      <th>Purchase Address</th>\n",
       "      <th>Month 2</th>\n",
       "      <th>City</th>\n",
       "    </tr>\n",
       "    <tr>\n",
       "      <th>sno</th>\n",
       "      <th></th>\n",
       "      <th></th>\n",
       "      <th></th>\n",
       "      <th></th>\n",
       "      <th></th>\n",
       "      <th></th>\n",
       "      <th></th>\n",
       "      <th></th>\n",
       "    </tr>\n",
       "  </thead>\n",
       "  <tbody>\n",
       "    <tr>\n",
       "      <th>1</th>\n",
       "      <td>178459</td>\n",
       "      <td>usb-cables</td>\n",
       "      <td>1</td>\n",
       "      <td>50.75</td>\n",
       "      <td>01/04/20 07:13</td>\n",
       "      <td>973 Main St, Hyderabad, TN 94016</td>\n",
       "      <td>1</td>\n",
       "      <td>Hyderabad  (TN)</td>\n",
       "    </tr>\n",
       "    <tr>\n",
       "      <th>2</th>\n",
       "      <td>178460</td>\n",
       "      <td>Apple Airpods Headphones</td>\n",
       "      <td>1</td>\n",
       "      <td>150.00</td>\n",
       "      <td>30/04/20 13:43</td>\n",
       "      <td>808 10th St, Hyderabad, TN 94016</td>\n",
       "      <td>4</td>\n",
       "      <td>Hyderabad  (TN)</td>\n",
       "    </tr>\n",
       "    <tr>\n",
       "      <th>3</th>\n",
       "      <td>178461</td>\n",
       "      <td>usb-cables</td>\n",
       "      <td>1</td>\n",
       "      <td>50.75</td>\n",
       "      <td>14/04/20 12:37</td>\n",
       "      <td>640 charminar St, vizag, AP 30301</td>\n",
       "      <td>4</td>\n",
       "      <td>vizag  (AP)</td>\n",
       "    </tr>\n",
       "    <tr>\n",
       "      <th>4</th>\n",
       "      <td>178462</td>\n",
       "      <td>lg electonics</td>\n",
       "      <td>1</td>\n",
       "      <td>555.25</td>\n",
       "      <td>03/04/20 12:07</td>\n",
       "      <td>624 7th St, pune, M 73301</td>\n",
       "      <td>3</td>\n",
       "      <td>pune  (M)</td>\n",
       "    </tr>\n",
       "    <tr>\n",
       "      <th>5</th>\n",
       "      <td>178463</td>\n",
       "      <td>usb-cables</td>\n",
       "      <td>1</td>\n",
       "      <td>50.75</td>\n",
       "      <td>09/04/20 17:16</td>\n",
       "      <td>129 7th St, Hyderabad, TN 94016</td>\n",
       "      <td>9</td>\n",
       "      <td>Hyderabad  (TN)</td>\n",
       "    </tr>\n",
       "  </tbody>\n",
       "</table>\n",
       "</div>"
      ],
      "text/plain": [
       "    Order ID                   Product  Quantity Ordered  Price Each  \\\n",
       "sno                                                                    \n",
       "1     178459                usb-cables                 1       50.75   \n",
       "2     178460  Apple Airpods Headphones                 1      150.00   \n",
       "3     178461                usb-cables                 1       50.75   \n",
       "4     178462             lg electonics                 1      555.25   \n",
       "5     178463                usb-cables                 1       50.75   \n",
       "\n",
       "         Order Date                   Purchase Address  Month 2  \\\n",
       "sno                                                               \n",
       "1    01/04/20 07:13   973 Main St, Hyderabad, TN 94016        1   \n",
       "2    30/04/20 13:43   808 10th St, Hyderabad, TN 94016        4   \n",
       "3    14/04/20 12:37  640 charminar St, vizag, AP 30301        4   \n",
       "4    03/04/20 12:07          624 7th St, pune, M 73301        3   \n",
       "5    09/04/20 17:16    129 7th St, Hyderabad, TN 94016        9   \n",
       "\n",
       "                City  \n",
       "sno                   \n",
       "1    Hyderabad  (TN)  \n",
       "2    Hyderabad  (TN)  \n",
       "3        vizag  (AP)  \n",
       "4          pune  (M)  \n",
       "5    Hyderabad  (TN)  "
      ]
     },
     "execution_count": 20,
     "metadata": {},
     "output_type": "execute_result"
    }
   ],
   "source": [
    "def get_city(address):\n",
    "    return address.split(\",\")[1].strip(\" \")\n",
    "\n",
    "def get_state(address):\n",
    "    return address.split(\",\")[2].split(\" \")[1]\n",
    "\n",
    "df['City'] = df['Purchase Address'].apply(lambda x: f\"{get_city(x)}  ({get_state(x)})\")\n",
    "df.head()"
   ]
  },
  {
   "cell_type": "markdown",
   "metadata": {},
   "source": [
    "# Data Exploration!\n"
   ]
  },
  {
   "cell_type": "markdown",
   "metadata": {},
   "source": [
    "#### Question 1: What was the best month for sales? How much was earned that month?"
   ]
  },
  {
   "cell_type": "code",
   "execution_count": 21,
   "metadata": {},
   "outputs": [
    {
     "data": {
      "text/html": [
       "<div>\n",
       "<style scoped>\n",
       "    .dataframe tbody tr th:only-of-type {\n",
       "        vertical-align: middle;\n",
       "    }\n",
       "\n",
       "    .dataframe tbody tr th {\n",
       "        vertical-align: top;\n",
       "    }\n",
       "\n",
       "    .dataframe thead th {\n",
       "        text-align: right;\n",
       "    }\n",
       "</style>\n",
       "<table border=\"1\" class=\"dataframe\">\n",
       "  <thead>\n",
       "    <tr style=\"text-align: right;\">\n",
       "      <th></th>\n",
       "      <th>Quantity Ordered</th>\n",
       "      <th>Price Each</th>\n",
       "      <th>Sales</th>\n",
       "    </tr>\n",
       "    <tr>\n",
       "      <th>Month 2</th>\n",
       "      <th></th>\n",
       "      <th></th>\n",
       "      <th></th>\n",
       "    </tr>\n",
       "  </thead>\n",
       "  <tbody>\n",
       "    <tr>\n",
       "      <th>1</th>\n",
       "      <td>13775</td>\n",
       "      <td>5697869.31</td>\n",
       "      <td>5711802.57</td>\n",
       "    </tr>\n",
       "    <tr>\n",
       "      <th>2</th>\n",
       "      <td>13863</td>\n",
       "      <td>5706918.46</td>\n",
       "      <td>5721213.52</td>\n",
       "    </tr>\n",
       "    <tr>\n",
       "      <th>3</th>\n",
       "      <td>14186</td>\n",
       "      <td>5915719.26</td>\n",
       "      <td>5930150.22</td>\n",
       "    </tr>\n",
       "    <tr>\n",
       "      <th>4</th>\n",
       "      <td>13600</td>\n",
       "      <td>5565445.37</td>\n",
       "      <td>5581115.95</td>\n",
       "    </tr>\n",
       "    <tr>\n",
       "      <th>5</th>\n",
       "      <td>15821</td>\n",
       "      <td>6505315.00</td>\n",
       "      <td>6523474.95</td>\n",
       "    </tr>\n",
       "    <tr>\n",
       "      <th>6</th>\n",
       "      <td>15557</td>\n",
       "      <td>6468105.32</td>\n",
       "      <td>6484046.50</td>\n",
       "    </tr>\n",
       "    <tr>\n",
       "      <th>7</th>\n",
       "      <td>15805</td>\n",
       "      <td>6529644.57</td>\n",
       "      <td>6543933.69</td>\n",
       "    </tr>\n",
       "    <tr>\n",
       "      <th>8</th>\n",
       "      <td>17036</td>\n",
       "      <td>7062794.71</td>\n",
       "      <td>7082031.55</td>\n",
       "    </tr>\n",
       "    <tr>\n",
       "      <th>9</th>\n",
       "      <td>13352</td>\n",
       "      <td>5525254.61</td>\n",
       "      <td>5538659.15</td>\n",
       "    </tr>\n",
       "    <tr>\n",
       "      <th>10</th>\n",
       "      <td>18260</td>\n",
       "      <td>7657167.00</td>\n",
       "      <td>7676927.87</td>\n",
       "    </tr>\n",
       "    <tr>\n",
       "      <th>11</th>\n",
       "      <td>15498</td>\n",
       "      <td>6485177.49</td>\n",
       "      <td>6506324.73</td>\n",
       "    </tr>\n",
       "    <tr>\n",
       "      <th>12</th>\n",
       "      <td>21834</td>\n",
       "      <td>9048139.13</td>\n",
       "      <td>9068547.65</td>\n",
       "    </tr>\n",
       "  </tbody>\n",
       "</table>\n",
       "</div>"
      ],
      "text/plain": [
       "         Quantity Ordered  Price Each       Sales\n",
       "Month 2                                          \n",
       "1                   13775  5697869.31  5711802.57\n",
       "2                   13863  5706918.46  5721213.52\n",
       "3                   14186  5915719.26  5930150.22\n",
       "4                   13600  5565445.37  5581115.95\n",
       "5                   15821  6505315.00  6523474.95\n",
       "6                   15557  6468105.32  6484046.50\n",
       "7                   15805  6529644.57  6543933.69\n",
       "8                   17036  7062794.71  7082031.55\n",
       "9                   13352  5525254.61  5538659.15\n",
       "10                  18260  7657167.00  7676927.87\n",
       "11                  15498  6485177.49  6506324.73\n",
       "12                  21834  9048139.13  9068547.65"
      ]
     },
     "execution_count": 21,
     "metadata": {},
     "output_type": "execute_result"
    }
   ],
   "source": [
    "df['Sales'] = df['Quantity Ordered'].astype('int') * df['Price Each'].astype('float')\n",
    "\n",
    "df.groupby(['Month 2']).sum()"
   ]
  },
  {
   "cell_type": "code",
   "execution_count": 22,
   "metadata": {},
   "outputs": [
    {
     "name": "stdout",
     "output_type": "stream",
     "text": [
      "range(1, 13)\n"
     ]
    },
    {
     "data": {
      "image/png": "[encoded data removed]",
      "text/plain": [
       "<Figure size 432x288 with 1 Axes>"
      ]
     },
     "metadata": {
      "needs_background": "light"
     },
     "output_type": "display_data"
    }
   ],
   "source": [
    "import matplotlib.pyplot as plt\n",
    "\n",
    "months = range(1,13)\n",
    "print(months)\n",
    "\n",
    "plt.bar(months,df.groupby(['Month 2']).sum()['Sales'])\n",
    "plt.xticks(months)\n",
    "plt.ylabel('Sales in USD ($)')\n",
    "plt.xlabel('Month number')\n",
    "plt.show()"
   ]
  },
  {
   "cell_type": "markdown",
   "metadata": {},
   "source": [
    "#### Question 2: What city sold the most product?"
   ]
  },
  {
   "cell_type": "code",
   "execution_count": 23,
   "metadata": {},
   "outputs": [
    {
     "data": {
      "text/html": [
       "<div>\n",
       "<style scoped>\n",
       "    .dataframe tbody tr th:only-of-type {\n",
       "        vertical-align: middle;\n",
       "    }\n",
       "\n",
       "    .dataframe tbody tr th {\n",
       "        vertical-align: top;\n",
       "    }\n",
       "\n",
       "    .dataframe thead th {\n",
       "        text-align: right;\n",
       "    }\n",
       "</style>\n",
       "<table border=\"1\" class=\"dataframe\">\n",
       "  <thead>\n",
       "    <tr style=\"text-align: right;\">\n",
       "      <th></th>\n",
       "      <th>Quantity Ordered</th>\n",
       "      <th>Price Each</th>\n",
       "      <th>Month 2</th>\n",
       "      <th>Sales</th>\n",
       "    </tr>\n",
       "    <tr>\n",
       "      <th>City</th>\n",
       "      <th></th>\n",
       "      <th></th>\n",
       "      <th></th>\n",
       "      <th></th>\n",
       "    </tr>\n",
       "  </thead>\n",
       "  <tbody>\n",
       "    <tr>\n",
       "      <th>Banglore  (KA)</th>\n",
       "      <td>31152</td>\n",
       "      <td>1.286910e+07</td>\n",
       "      <td>210395</td>\n",
       "      <td>1.290343e+07</td>\n",
       "    </tr>\n",
       "    <tr>\n",
       "      <th>Delhi  (UT)</th>\n",
       "      <td>24714</td>\n",
       "      <td>1.021813e+07</td>\n",
       "      <td>167912</td>\n",
       "      <td>1.024730e+07</td>\n",
       "    </tr>\n",
       "    <tr>\n",
       "      <th>Hyderabad  (TN)</th>\n",
       "      <td>55612</td>\n",
       "      <td>2.304241e+07</td>\n",
       "      <td>377533</td>\n",
       "      <td>2.309789e+07</td>\n",
       "    </tr>\n",
       "    <tr>\n",
       "      <th>chennai  (T)</th>\n",
       "      <td>18644</td>\n",
       "      <td>7.744964e+06</td>\n",
       "      <td>126105</td>\n",
       "      <td>7.764190e+06</td>\n",
       "    </tr>\n",
       "    <tr>\n",
       "      <th>pune  (M)</th>\n",
       "      <td>21715</td>\n",
       "      <td>9.076519e+06</td>\n",
       "      <td>147256</td>\n",
       "      <td>9.093969e+06</td>\n",
       "    </tr>\n",
       "    <tr>\n",
       "      <th>vizag  (AP)</th>\n",
       "      <td>36750</td>\n",
       "      <td>1.521643e+07</td>\n",
       "      <td>248715</td>\n",
       "      <td>1.526145e+07</td>\n",
       "    </tr>\n",
       "  </tbody>\n",
       "</table>\n",
       "</div>"
      ],
      "text/plain": [
       "                 Quantity Ordered    Price Each  Month 2         Sales\n",
       "City                                                                  \n",
       "Banglore  (KA)              31152  1.286910e+07   210395  1.290343e+07\n",
       "Delhi  (UT)                 24714  1.021813e+07   167912  1.024730e+07\n",
       "Hyderabad  (TN)             55612  2.304241e+07   377533  2.309789e+07\n",
       "chennai  (T)                18644  7.744964e+06   126105  7.764190e+06\n",
       "pune  (M)                   21715  9.076519e+06   147256  9.093969e+06\n",
       "vizag  (AP)                 36750  1.521643e+07   248715  1.526145e+07"
      ]
     },
     "execution_count": 23,
     "metadata": {},
     "output_type": "execute_result"
    }
   ],
   "source": [
    "df.groupby(['City']).sum()"
   ]
  },
  {
   "cell_type": "code",
   "execution_count": 24,
   "metadata": {},
   "outputs": [
    {
     "data": {
      "text/html": [
       "<div>\n",
       "<style scoped>\n",
       "    .dataframe tbody tr th:only-of-type {\n",
       "        vertical-align: middle;\n",
       "    }\n",
       "\n",
       "    .dataframe tbody tr th {\n",
       "        vertical-align: top;\n",
       "    }\n",
       "\n",
       "    .dataframe thead th {\n",
       "        text-align: right;\n",
       "    }\n",
       "</style>\n",
       "<table border=\"1\" class=\"dataframe\">\n",
       "  <thead>\n",
       "    <tr style=\"text-align: right;\">\n",
       "      <th></th>\n",
       "      <th>Order ID</th>\n",
       "      <th>Product</th>\n",
       "      <th>Quantity Ordered</th>\n",
       "      <th>Price Each</th>\n",
       "      <th>Order Date</th>\n",
       "      <th>Purchase Address</th>\n",
       "      <th>Month 2</th>\n",
       "      <th>Sales</th>\n",
       "    </tr>\n",
       "    <tr>\n",
       "      <th>City</th>\n",
       "      <th></th>\n",
       "      <th></th>\n",
       "      <th></th>\n",
       "      <th></th>\n",
       "      <th></th>\n",
       "      <th></th>\n",
       "      <th></th>\n",
       "      <th></th>\n",
       "    </tr>\n",
       "  </thead>\n",
       "  <tbody>\n",
       "    <tr>\n",
       "      <th>Banglore  (KA)</th>\n",
       "      <td>30760</td>\n",
       "      <td>30760</td>\n",
       "      <td>30760</td>\n",
       "      <td>30760</td>\n",
       "      <td>30760</td>\n",
       "      <td>30760</td>\n",
       "      <td>30760</td>\n",
       "      <td>30760</td>\n",
       "    </tr>\n",
       "    <tr>\n",
       "      <th>Delhi  (UT)</th>\n",
       "      <td>24438</td>\n",
       "      <td>24438</td>\n",
       "      <td>24438</td>\n",
       "      <td>24438</td>\n",
       "      <td>24438</td>\n",
       "      <td>24438</td>\n",
       "      <td>24438</td>\n",
       "      <td>24438</td>\n",
       "    </tr>\n",
       "    <tr>\n",
       "      <th>Hyderabad  (TN)</th>\n",
       "      <td>54965</td>\n",
       "      <td>54965</td>\n",
       "      <td>54965</td>\n",
       "      <td>54965</td>\n",
       "      <td>54965</td>\n",
       "      <td>54965</td>\n",
       "      <td>54965</td>\n",
       "      <td>54965</td>\n",
       "    </tr>\n",
       "    <tr>\n",
       "      <th>chennai  (T)</th>\n",
       "      <td>18430</td>\n",
       "      <td>18430</td>\n",
       "      <td>18430</td>\n",
       "      <td>18430</td>\n",
       "      <td>18430</td>\n",
       "      <td>18430</td>\n",
       "      <td>18430</td>\n",
       "      <td>18430</td>\n",
       "    </tr>\n",
       "    <tr>\n",
       "      <th>pune  (M)</th>\n",
       "      <td>21476</td>\n",
       "      <td>21476</td>\n",
       "      <td>21476</td>\n",
       "      <td>21476</td>\n",
       "      <td>21476</td>\n",
       "      <td>21476</td>\n",
       "      <td>21476</td>\n",
       "      <td>21476</td>\n",
       "    </tr>\n",
       "    <tr>\n",
       "      <th>vizag  (AP)</th>\n",
       "      <td>36324</td>\n",
       "      <td>36324</td>\n",
       "      <td>36324</td>\n",
       "      <td>36324</td>\n",
       "      <td>36324</td>\n",
       "      <td>36324</td>\n",
       "      <td>36324</td>\n",
       "      <td>36324</td>\n",
       "    </tr>\n",
       "  </tbody>\n",
       "</table>\n",
       "</div>"
      ],
      "text/plain": [
       "                 Order ID  Product  Quantity Ordered  Price Each  Order Date  \\\n",
       "City                                                                           \n",
       "Banglore  (KA)      30760    30760             30760       30760       30760   \n",
       "Delhi  (UT)         24438    24438             24438       24438       24438   \n",
       "Hyderabad  (TN)     54965    54965             54965       54965       54965   \n",
       "chennai  (T)        18430    18430             18430       18430       18430   \n",
       "pune  (M)           21476    21476             21476       21476       21476   \n",
       "vizag  (AP)         36324    36324             36324       36324       36324   \n",
       "\n",
       "                 Purchase Address  Month 2  Sales  \n",
       "City                                               \n",
       "Banglore  (KA)              30760    30760  30760  \n",
       "Delhi  (UT)                 24438    24438  24438  \n",
       "Hyderabad  (TN)             54965    54965  54965  \n",
       "chennai  (T)                18430    18430  18430  \n",
       "pune  (M)                   21476    21476  21476  \n",
       "vizag  (AP)                 36324    36324  36324  "
      ]
     },
     "execution_count": 24,
     "metadata": {},
     "output_type": "execute_result"
    }
   ],
   "source": [
    "df.groupby(['City']).count()"
   ]
  },
  {
   "cell_type": "code",
   "execution_count": 25,
   "metadata": {},
   "outputs": [
    {
     "data": {
      "image/png": "[encoded data removed]",
      "text/plain": [
       "<Figure size 432x288 with 1 Axes>"
      ]
     },
     "metadata": {
      "needs_background": "light"
     },
     "output_type": "display_data"
    }
   ],
   "source": [
    "import matplotlib.pyplot as plt\n",
    "\n",
    "keys = [city for city, df in df.groupby(['City'])]\n",
    "\n",
    "plt.bar(keys,df.groupby(['City']).sum()['Sales'])\n",
    "plt.ylabel('Sales in rupee' )\n",
    "plt.xlabel('Month number')\n",
    "plt.xticks(keys, rotation='vertical', size=8)\n",
    "plt.show()"
   ]
  },
  {
   "cell_type": "markdown",
   "metadata": {},
   "source": [
    "#### Question 3: What time should we display advertisements to maximize likelihood of customer's buying product?"
   ]
  },
  {
   "cell_type": "code",
   "execution_count": 26,
   "metadata": {},
   "outputs": [
    {
     "data": {
      "text/html": [
       "<div>\n",
       "<style scoped>\n",
       "    .dataframe tbody tr th:only-of-type {\n",
       "        vertical-align: middle;\n",
       "    }\n",
       "\n",
       "    .dataframe tbody tr th {\n",
       "        vertical-align: top;\n",
       "    }\n",
       "\n",
       "    .dataframe thead th {\n",
       "        text-align: right;\n",
       "    }\n",
       "</style>\n",
       "<table border=\"1\" class=\"dataframe\">\n",
       "  <thead>\n",
       "    <tr style=\"text-align: right;\">\n",
       "      <th></th>\n",
       "      <th>Order ID</th>\n",
       "      <th>Product</th>\n",
       "      <th>Quantity Ordered</th>\n",
       "      <th>Price Each</th>\n",
       "      <th>Order Date</th>\n",
       "      <th>Purchase Address</th>\n",
       "      <th>Month 2</th>\n",
       "      <th>City</th>\n",
       "      <th>Sales</th>\n",
       "      <th>Hour</th>\n",
       "      <th>Minute</th>\n",
       "      <th>Count</th>\n",
       "    </tr>\n",
       "    <tr>\n",
       "      <th>sno</th>\n",
       "      <th></th>\n",
       "      <th></th>\n",
       "      <th></th>\n",
       "      <th></th>\n",
       "      <th></th>\n",
       "      <th></th>\n",
       "      <th></th>\n",
       "      <th></th>\n",
       "      <th></th>\n",
       "      <th></th>\n",
       "      <th></th>\n",
       "      <th></th>\n",
       "    </tr>\n",
       "  </thead>\n",
       "  <tbody>\n",
       "    <tr>\n",
       "      <th>1</th>\n",
       "      <td>178459</td>\n",
       "      <td>usb-cables</td>\n",
       "      <td>1</td>\n",
       "      <td>50.75</td>\n",
       "      <td>01/04/20 07:13</td>\n",
       "      <td>973 Main St, Hyderabad, TN 94016</td>\n",
       "      <td>1</td>\n",
       "      <td>Hyderabad  (TN)</td>\n",
       "      <td>50.75</td>\n",
       "      <td>7</td>\n",
       "      <td>13</td>\n",
       "      <td>1</td>\n",
       "    </tr>\n",
       "    <tr>\n",
       "      <th>2</th>\n",
       "      <td>178460</td>\n",
       "      <td>Apple Airpods Headphones</td>\n",
       "      <td>1</td>\n",
       "      <td>150.00</td>\n",
       "      <td>30/04/20 13:43</td>\n",
       "      <td>808 10th St, Hyderabad, TN 94016</td>\n",
       "      <td>4</td>\n",
       "      <td>Hyderabad  (TN)</td>\n",
       "      <td>150.00</td>\n",
       "      <td>13</td>\n",
       "      <td>43</td>\n",
       "      <td>1</td>\n",
       "    </tr>\n",
       "    <tr>\n",
       "      <th>3</th>\n",
       "      <td>178461</td>\n",
       "      <td>usb-cables</td>\n",
       "      <td>1</td>\n",
       "      <td>50.75</td>\n",
       "      <td>14/04/20 12:37</td>\n",
       "      <td>640 charminar St, vizag, AP 30301</td>\n",
       "      <td>4</td>\n",
       "      <td>vizag  (AP)</td>\n",
       "      <td>50.75</td>\n",
       "      <td>12</td>\n",
       "      <td>37</td>\n",
       "      <td>1</td>\n",
       "    </tr>\n",
       "    <tr>\n",
       "      <th>4</th>\n",
       "      <td>178462</td>\n",
       "      <td>lg electonics</td>\n",
       "      <td>1</td>\n",
       "      <td>555.25</td>\n",
       "      <td>03/04/20 12:07</td>\n",
       "      <td>624 7th St, pune, M 73301</td>\n",
       "      <td>3</td>\n",
       "      <td>pune  (M)</td>\n",
       "      <td>555.25</td>\n",
       "      <td>12</td>\n",
       "      <td>7</td>\n",
       "      <td>1</td>\n",
       "    </tr>\n",
       "    <tr>\n",
       "      <th>5</th>\n",
       "      <td>178463</td>\n",
       "      <td>usb-cables</td>\n",
       "      <td>1</td>\n",
       "      <td>50.75</td>\n",
       "      <td>09/04/20 17:16</td>\n",
       "      <td>129 7th St, Hyderabad, TN 94016</td>\n",
       "      <td>9</td>\n",
       "      <td>Hyderabad  (TN)</td>\n",
       "      <td>50.75</td>\n",
       "      <td>17</td>\n",
       "      <td>16</td>\n",
       "      <td>1</td>\n",
       "    </tr>\n",
       "  </tbody>\n",
       "</table>\n",
       "</div>"
      ],
      "text/plain": [
       "    Order ID                   Product  Quantity Ordered  Price Each  \\\n",
       "sno                                                                    \n",
       "1     178459                usb-cables                 1       50.75   \n",
       "2     178460  Apple Airpods Headphones                 1      150.00   \n",
       "3     178461                usb-cables                 1       50.75   \n",
       "4     178462             lg electonics                 1      555.25   \n",
       "5     178463                usb-cables                 1       50.75   \n",
       "\n",
       "         Order Date                   Purchase Address  Month 2  \\\n",
       "sno                                                               \n",
       "1    01/04/20 07:13   973 Main St, Hyderabad, TN 94016        1   \n",
       "2    30/04/20 13:43   808 10th St, Hyderabad, TN 94016        4   \n",
       "3    14/04/20 12:37  640 charminar St, vizag, AP 30301        4   \n",
       "4    03/04/20 12:07          624 7th St, pune, M 73301        3   \n",
       "5    09/04/20 17:16    129 7th St, Hyderabad, TN 94016        9   \n",
       "\n",
       "                City   Sales  Hour  Minute  Count  \n",
       "sno                                                \n",
       "1    Hyderabad  (TN)   50.75     7      13      1  \n",
       "2    Hyderabad  (TN)  150.00    13      43      1  \n",
       "3        vizag  (AP)   50.75    12      37      1  \n",
       "4          pune  (M)  555.25    12       7      1  \n",
       "5    Hyderabad  (TN)   50.75    17      16      1  "
      ]
     },
     "execution_count": 26,
     "metadata": {},
     "output_type": "execute_result"
    }
   ],
   "source": [
    "# Add hour column\n",
    "df['Hour'] = pd.to_datetime(df['Order Date']).dt.hour\n",
    "df['Minute'] = pd.to_datetime(df['Order Date']).dt.minute\n",
    "df['Count'] = 1\n",
    "df.head()"
   ]
  },
  {
   "cell_type": "code",
   "execution_count": 27,
   "metadata": {},
   "outputs": [
    {
     "data": {
      "image/png": "[encoded data removed]",
      "text/plain": [
       "<Figure size 432x288 with 1 Axes>"
      ]
     },
     "metadata": {
      "needs_background": "light"
     },
     "output_type": "display_data"
    }
   ],
   "source": [
    "keys = [pair for pair, df in df.groupby(['Hour'])]\n",
    "\n",
    "plt.plot(keys, df.groupby(['Hour']).count()['Count'])\n",
    "plt.xticks(keys)\n",
    "plt.grid()\n",
    "plt.show()"
   ]
  },
  {
   "cell_type": "markdown",
   "metadata": {},
   "source": [
    "My recommendation is slightly before 11am or 7pm"
   ]
  },
  {
   "cell_type": "markdown",
   "metadata": {},
   "source": [
    "#### Question 4: What products are most often sold together?"
   ]
  },
  {
   "cell_type": "code",
   "execution_count": 28,
   "metadata": {},
   "outputs": [
    {
     "name": "stderr",
     "output_type": "stream",
     "text": [
      "C:\\Users\\ASUS\\anaconda03\\lib\\site-packages\\ipykernel_launcher.py:5: SettingWithCopyWarning: \n",
      "A value is trying to be set on a copy of a slice from a DataFrame.\n",
      "Try using .loc[row_indexer,col_indexer] = value instead\n",
      "\n",
      "See the caveats in the documentation: https://pandas.pydata.org/pandas-docs/stable/user_guide/indexing.html#returning-a-view-versus-a-copy\n",
      "  \"\"\"\n"
     ]
    }
   ],
   "source": [
    "# https://stackoverflow.com/questions/43348194/pandas-select-rows-if-id-appear-several-time\n",
    "df_1 = df[df['Order ID'].duplicated(keep=False)]\n",
    "\n",
    "# Referenced: https://stackoverflow.com/questions/27298178/concatenate-strings-from-several-rows-using-pandas-groupby\n",
    "df_1['Grouped'] = df_1.groupby('Order ID')['Product'].transform(lambda x: ','.join(x))\n",
    "df2 = df_1[['Order ID', 'Grouped']].drop_duplicates()"
   ]
  },
  {
   "cell_type": "code",
   "execution_count": 29,
   "metadata": {},
   "outputs": [
    {
     "name": "stdout",
     "output_type": "stream",
     "text": [
      "('micromax', 'usb-cables') 540\n",
      "('micromax', 'sony tv') 391\n",
      "('usb-cables', 'Wired Headphones') 236\n",
      "('usb-cables', 'usb-cables') 222\n",
      "('Wired Headphones', 'usb-cables') 208\n",
      "('Wired Headphones', 'Wired Headphones') 188\n",
      "('micromax', 'Wired Headphones') 180\n",
      "('micromax', 'wireless headphones') 114\n",
      "('usb-cables', 'sony tv') 89\n",
      "('washing machines', 'Wired Headphones') 77\n"
     ]
    }
   ],
   "source": [
    "from itertools import combinations\n",
    "from collections import Counter\n",
    "\n",
    "count = Counter()\n",
    "\n",
    "for row in df2['Grouped']:\n",
    "    row_list = row.split(',')\n",
    "    count.update(Counter(combinations(row_list, 2)))\n",
    "\n",
    "for key,value in count.most_common(10):\n",
    "    print(key, value)"
   ]
  },
  {
   "cell_type": "markdown",
   "metadata": {},
   "source": [
    "#### What product sold the most? Why do you think it sold the most?"
   ]
  },
  {
   "cell_type": "code",
   "execution_count": 30,
   "metadata": {},
   "outputs": [
    {
     "data": {
      "image/png": "[encoded data removed]",
      "text/plain": [
       "<Figure size 432x288 with 1 Axes>"
      ]
     },
     "metadata": {
      "needs_background": "light"
     },
     "output_type": "display_data"
    }
   ],
   "source": [
    "product_group = df.groupby('Product')\n",
    "quantity_ordered = product_group.sum()['Quantity Ordered']\n",
    "\n",
    "keys = [pair for pair, df in product_group]\n",
    "plt.bar(keys, quantity_ordered)\n",
    "plt.xticks(keys, rotation='vertical', size=8)\n",
    "plt.show()"
   ]
  },
  {
   "cell_type": "code",
   "execution_count": 31,
   "metadata": {},
   "outputs": [
    {
     "name": "stderr",
     "output_type": "stream",
     "text": [
      "C:\\Users\\ASUS\\anaconda03\\lib\\site-packages\\ipykernel_launcher.py:14: UserWarning: Matplotlib is currently using module://ipykernel.pylab.backend_inline, which is a non-GUI backend, so cannot show the figure.\n",
      "  \n"
     ]
    },
    {
     "data": {
      "image/png": "[encoded data removed]",
      "text/plain": [
       "<Figure size 432x288 with 2 Axes>"
      ]
     },
     "metadata": {
      "needs_background": "light"
     },
     "output_type": "display_data"
    }
   ],
   "source": [
    "prices = df.groupby('Product').mean()['Price Each']\n",
    "\n",
    "fig, ax1 = plt.subplots()\n",
    "\n",
    "ax2 = ax1.twinx()\n",
    "ax1.bar(keys, quantity_ordered, color='g')\n",
    "ax2.plot(keys, prices, color='b')\n",
    "\n",
    "ax1.set_xlabel('Product Name')\n",
    "ax1.set_ylabel('Quantity Ordered', color='g')\n",
    "ax2.set_ylabel('Price ', color='b')\n",
    "ax1.set_xticklabels(keys, rotation='vertical', size=8)\n",
    "\n",
    "fig.show()"
   ]
  },
  {
   "cell_type": "markdown",
   "metadata": {},
   "source": [
    "'Wired Headphones','usb-cables' are mostly used and can connect to any devices. they are also cheap. "
   ]
  },
  {
   "cell_type": "code",
   "execution_count": null,
   "metadata": {},
   "outputs": [],
   "source": []
  }
 ],
 "metadata": {
  "kernelspec": {
   "display_name": "Python 3",
   "language": "python",
   "name": "python3"
  },
  "language_info": {
   "codemirror_mode": {
    "name": "ipython",
    "version": 3
   },
   "file_extension": ".py",
   "mimetype": "text/x-python",
   "name": "python",
   "nbconvert_exporter": "python",
   "pygments_lexer": "ipython3",
   "version": "3.7.6"
  }
 },
 "nbformat": 4,
 "nbformat_minor": 4
}
